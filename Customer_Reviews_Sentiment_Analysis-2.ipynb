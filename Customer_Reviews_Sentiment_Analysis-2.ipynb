{
  "nbformat": 4,
  "nbformat_minor": 0,
  "metadata": {
    "colab": {
      "provenance": []
    },
    "kernelspec": {
      "name": "python3",
      "display_name": "Python 3"
    },
    "language_info": {
      "name": "python"
    }
  },
  "cells": [
    {
      "cell_type": "markdown",
      "source": [
        "# **Sentiment Classification of Customer Reviews for Product Insights**\n",
        "\n",
        "The goal of this project is to classify customer reviews as positive or negative using TF-IDF and Logistic Regression, as well as look at the top recurring keywords for both in order to understand specifically which experiences drive reviews, and therefore to drive CX (customer experience) strategy development.\n",
        "\n",
        ">**Dataset**: Yelp Polarity Reviews\n",
        ">\n",
        ">**References**: Zhang, X., Zhao, J., & LeCun, Y. (2015). Character-level Convolutional Networks for Text Classification. In Advances in Neural Information Processing Systems (pp. 649–657)."
      ],
      "metadata": {
        "id": "H8mCoM4exBK7"
      }
    },
    {
      "cell_type": "markdown",
      "source": [
        "## **Step 1: Dataset Load and Preprocessing**"
      ],
      "metadata": {
        "id": "Fx9Fa14S_G9S"
      }
    },
    {
      "cell_type": "code",
      "execution_count": null,
      "metadata": {
        "id": "8Xab0JHvffNk"
      },
      "outputs": [],
      "source": [
        "!pip install datasets\n",
        "from datasets import load_dataset\n",
        "import pandas as pd\n",
        "import matplotlib.pyplot as plt\n",
        "import seaborn as sns\n",
        "import numpy as np\n",
        "import re\n",
        "import string\n",
        "from sklearn.model_selection import train_test_split\n",
        "from sklearn.feature_extraction.text import TfidfVectorizer\n",
        "from sklearn.linear_model import LogisticRegression\n",
        "from sklearn.metrics import classification_report, confusion_matrix\n",
        "from sklearn.pipeline import make_pipeline\n",
        "from sklearn.feature_extraction.text import ENGLISH_STOP_WORDS\n",
        "from wordcloud import WordCloud\n",
        "import shap\n",
        "import nltk\n",
        "from wordcloud import WordCloud\n",
        "import matplotlib.pyplot as plt\n",
        "from nltk.corpus import stopwords\n",
        "from datasets import load_dataset\n",
        "import re"
      ]
    },
    {
      "cell_type": "code",
      "source": [
        "dataset = load_dataset(\"yelp_polarity\", split=\"train[:20%]\") # 80:20 test train split\n",
        "dataset = dataset.shuffle(seed=42)  # Shuffle for randomness\n",
        "\n",
        "# Convert to pandas DataFrame\n",
        "df = pd.DataFrame(dataset)\n",
        "df.head()"
      ],
      "metadata": {
        "id": "_R6Spudwf6Ui"
      },
      "execution_count": null,
      "outputs": []
    },
    {
      "cell_type": "code",
      "source": [
        "# Modifying text for consistency\n",
        "def clean_text(text):\n",
        "    text = text.lower() # convert all text to lowercase\n",
        "    text = re.sub(f\"[{re.escape(string.punctuation)}]\", \"\", text) # remove punctuation\n",
        "    text = re.sub(r\"\\s+\", \" \", text).strip() # remove extra whitespace\n",
        "    return text\n",
        "\n",
        "df['clean_text'] = df['text'].apply(clean_text)\n",
        "df[['text', 'clean_text']].head()\n"
      ],
      "metadata": {
        "id": "esgH3PeAxVwu"
      },
      "execution_count": null,
      "outputs": []
    },
    {
      "cell_type": "markdown",
      "source": [
        "# **Step 2: Exploratory Data Analysis: Visualising the Overall Distribution of Positive and Negative Reviews**"
      ],
      "metadata": {
        "id": "FW8d4nylxtai"
      }
    },
    {
      "cell_type": "code",
      "source": [
        "sns.set(style=\"whitegrid\")\n",
        "\n",
        "# Create count plot\n",
        "plt.figure(figsize=(8, 6))\n",
        "ax = sns.countplot(x='label', data=df, palette=['#FF6B6B', '#4ECDC4'])\n",
        "\n",
        "# Labels\n",
        "ax.set_xticklabels(['Negative', 'Positive'], fontsize=12)\n",
        "ax.set_title(\"Sentiment Distribution\", fontsize=16, fontweight='bold')\n",
        "ax.set_xlabel(\"Sentiment\", fontsize=12)\n",
        "ax.set_ylabel(\"Number of Reviews\", fontsize=12)\n",
        "\n",
        "# Labels for bars\n",
        "for p in ax.patches:\n",
        "    height = p.get_height()\n",
        "    ax.text(p.get_x() + p.get_width() / 2., height + 200, f'{height:,}',\n",
        "            ha=\"center\", fontsize=11)\n",
        "\n",
        "plt.tight_layout()\n",
        "plt.show()"
      ],
      "metadata": {
        "id": "rPj6CVrjx3Ag"
      },
      "execution_count": null,
      "outputs": []
    },
    {
      "cell_type": "markdown",
      "source": [
        "# **Step 3: Model Development and Evaluation Metrics**\n",
        "\n",
        "TF-IDF (Term Frequency–Inverse Document Frequency) is an interpretable statistic indicating the relative significance of words in predicting sentiment. This ensures that words in the reviews are assigned weight in relation to their relative importance among all the words that occur in the reviews.\n",
        "\n",
        "---\n",
        "\n"
      ],
      "metadata": {
        "id": "R76jPeu_yB4J"
      }
    },
    {
      "cell_type": "code",
      "source": [
        "# Split data\n",
        "X_train, X_test, y_train, y_test = train_test_split(df[\"text\"], df[\"label\"], test_size=0.2, random_state=42)\n",
        "\n",
        "# TF-IDF + Logistic Regression\n",
        "vectorizer = TfidfVectorizer(stop_words=\"english\", max_features=5000)\n",
        "model = LogisticRegression(max_iter=1000)\n",
        "pipeline = make_pipeline(vectorizer, model)\n",
        "pipeline.fit(X_train, y_train)\n",
        "\n",
        "# Get predictions\n",
        "y_pred = pipeline.predict(X_test)\n",
        "\n",
        "# Get precision, recall, and F1-score\n",
        "print(classification_report(y_test, y_pred, target_names=[\"Negative\", \"Positive\"]))"
      ],
      "metadata": {
        "id": "qnulHDq1yHsX"
      },
      "execution_count": null,
      "outputs": []
    },
    {
      "cell_type": "markdown",
      "source": [
        "## Example: Running the Model with A Sample Review\n",
        "\n",
        "You can replace the text in the predict_sentiment function with a review entered by you to illustrate how the model classifies reviews as positive or negative."
      ],
      "metadata": {
        "id": "DRY3izhOXtbc"
      }
    },
    {
      "cell_type": "code",
      "source": [
        "def predict_sentiment(text):\n",
        "    cleaned = clean_text(text)\n",
        "    vectorized = vectorizer.transform([cleaned])\n",
        "    prediction = model.predict(vectorized)[0]\n",
        "    return \"Positive\" if prediction == 1 else \"Negative\"\n",
        "\n",
        "predict_sentiment(\"We were left waiting for so long.\")"
      ],
      "metadata": {
        "id": "IBssskApX2PH"
      },
      "execution_count": null,
      "outputs": []
    },
    {
      "cell_type": "markdown",
      "source": [
        "# **Insights: Discovering Trends in Reviews**"
      ],
      "metadata": {
        "id": "LLxyV1w5Vw3F"
      }
    },
    {
      "cell_type": "markdown",
      "source": [
        "## Most Frequently Occuring Positive and Negative Words\n",
        "\n",
        "These are the top keywords that appear to drive positive and negative sentiment. These can heavily inform business strategy.\n"
      ],
      "metadata": {
        "id": "wd8E9lIOy896"
      }
    },
    {
      "cell_type": "code",
      "source": [
        "feature_names = vectorizer.get_feature_names_out()\n",
        "coefficients = model.coef_[0]\n",
        "\n",
        "coef_df = pd.DataFrame({\n",
        "    'word': feature_names,\n",
        "    'coefficient': coefficients\n",
        "})\n",
        "\n",
        "top_pos = coef_df.sort_values(by='coefficient', ascending=False).head(40)\n",
        "top_neg = coef_df.sort_values(by='coefficient').head(40)\n",
        "\n",
        "top_words = pd.concat([top_pos, top_neg])\n",
        "top_words['sentiment'] = ['Positive'] * 40 + ['Negative'] * 40\n",
        "\n",
        "plt.figure(figsize=(8, 12))\n",
        "sns.barplot(data=top_words, x='coefficient', y='word', hue='sentiment',\n",
        "            palette={'Positive': 'green', 'Negative': 'red'})\n",
        "plt.axvline(0, color='black', linewidth=0.5)\n",
        "plt.title(\"Top 20 Words Influencing Sentiment Prediction\")\n",
        "plt.xlabel(\"Model Coefficient\")\n",
        "plt.ylabel(\"Word\")\n",
        "plt.tight_layout()\n",
        "plt.show()"
      ],
      "metadata": {
        "id": "mARSR5ASzBXf"
      },
      "execution_count": null,
      "outputs": []
    },
    {
      "cell_type": "markdown",
      "source": [
        "# **SHAP Values**\n",
        "\n",
        "SHAP values indicate the influence that a keyword has on the model's outcome.\n",
        ">**Positive SHAP Value**: The feature pushes the model’s prediction towards the positive class.\n",
        ">\n",
        ">**Negative SHAP Value**: The feature pushes the model’s prediction towards the negative class."
      ],
      "metadata": {
        "id": "UlHrzF9QT1yu"
      }
    },
    {
      "cell_type": "code",
      "source": [
        "X_test_tfidf = vectorizer.transform(X_test[:100])\n",
        "explainer = shap.Explainer(model, X_test_tfidf)\n",
        "shap_values = explainer(X_test_tfidf)\n",
        "\n",
        "shap.summary_plot(shap_values, X_test_tfidf, feature_names=vectorizer.get_feature_names_out(), show=True)\n",
        "coefficients = model.coef_[0]\n",
        "top_idx = np.argsort(np.abs(coefficients))[-40:]\n",
        "top_words = [(vectorizer.get_feature_names_out()[i], coefficients[i]) for i in reversed(top_idx)]"
      ],
      "metadata": {
        "id": "kO-1QAUvOjVr"
      },
      "execution_count": null,
      "outputs": []
    },
    {
      "cell_type": "markdown",
      "source": [
        "## Top words influencing predictions"
      ],
      "metadata": {
        "id": "7DLg5ZIudrfm"
      }
    },
    {
      "cell_type": "code",
      "source": [
        "for word, coef in top_words:\n",
        "    print(f\"{word}: {coef:.3f} ({'Positive' if coef > 0 else 'Negative'})\")"
      ],
      "metadata": {
        "id": "Lypz8Vq3dnl8"
      },
      "execution_count": null,
      "outputs": []
    },
    {
      "cell_type": "markdown",
      "source": [
        "#**Key Results and Recommendations**"
      ],
      "metadata": {
        "id": "62_er8XboFB0"
      }
    },
    {
      "cell_type": "markdown",
      "source": [
        "**Strategic Recommendations**\n",
        "\n",
        "* **Improve Consistency in Service Quality**\n",
        "The presence of words like “rude” and “unfortunately” points to inconsistent or disappointing service interactions. Implement customer service training and real-time feedback mechanisms to ensure consistently positive experiences.\n",
        "\n",
        "* **Prioritize Food Quality and Taste**:\n",
        "Words like “bland,” “tasteless,” and “gross” indicate dissatisfaction with food preparation. Standardize food preparation procedures and monitor kitchen performance closely to maintain taste and quality.\n",
        "\n",
        "* **Leverage Positive Themes in Marketing**:\n",
        "Highlight top positive sentiment drivers such as “delicious,” “awesome,” “friendly,” and “fantastic” in branding and promotions. Reinforcing these strengths can attract new customers and build loyalty.\n",
        "\n",
        "* **Monitor and Respond to Negative Trends Early**:\n",
        "Use sentiment analysis tools to flag reviews containing highly negative keywords (e.g., “awful,” “worst,” “disgusting”) for immediate escalation. This allows the team to respond quickly and mitigate reputational risk."
      ],
      "metadata": {
        "id": "qyU9KkEloOEI"
      }
    }
  ]
}